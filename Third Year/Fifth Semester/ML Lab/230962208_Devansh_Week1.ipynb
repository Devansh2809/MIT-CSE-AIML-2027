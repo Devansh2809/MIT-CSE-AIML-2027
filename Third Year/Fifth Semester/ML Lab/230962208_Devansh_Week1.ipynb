{
 "cells": [
  {
   "cell_type": "markdown",
   "id": "aea2f929",
   "metadata": {},
   "source": [
    "# Convert a 1-D array into a 2-D array with 3 rows."
   ]
  },
  {
   "cell_type": "code",
   "execution_count": 1,
   "id": "31e1a155",
   "metadata": {},
   "outputs": [
    {
     "name": "stdout",
     "output_type": "stream",
     "text": [
      "[[0 1 2]\n",
      " [3 4 5]\n",
      " [6 7 8]]\n"
     ]
    }
   ],
   "source": [
    "import numpy as np\n",
    "arr=np.array([0,1,2,3,4,5,6,7,8])\n",
    "arr=arr.reshape(3,3)\n",
    "print(arr)"
   ]
  },
  {
   "cell_type": "markdown",
   "id": "6497e59a",
   "metadata": {},
   "source": [
    "# Replace all odd numbers in the given array with -1"
   ]
  },
  {
   "cell_type": "code",
   "execution_count": 2,
   "id": "e6f60458",
   "metadata": {},
   "outputs": [
    {
     "name": "stdout",
     "output_type": "stream",
     "text": [
      "[ 0 -1  2 -1  4 -1  6 -1  8 -1]\n"
     ]
    }
   ],
   "source": [
    "import numpy as np\n",
    "arr=np.array([0,1,2,3,4,5,6,7,8,9])\n",
    "for i in range(arr.size):\n",
    "    if arr[i]%2!=0:\n",
    "        arr[i]=-1\n",
    "print(arr)"
   ]
  },
  {
   "cell_type": "markdown",
   "id": "2fc4709a",
   "metadata": {},
   "source": [
    "# Find the positions of elements in x where its value is more than its corresponding element in y, and elements in x where its value is equals to its corresponding element in y."
   ]
  },
  {
   "cell_type": "code",
   "execution_count": 3,
   "id": "6c5d73cd",
   "metadata": {},
   "outputs": [
    {
     "name": "stdout",
     "output_type": "stream",
     "text": [
      "[1, 2, 4, 5, 6, 7, 8, 9],[0],"
     ]
    }
   ],
   "source": [
    "import numpy as np\n",
    "\n",
    "x = np.array([21, 64, 86, 22, 74, 55, 81, 79, 90, 89])\n",
    "y = np.array([21,  7,  3, 45, 10, 29, 55,  4, 37, 18])\n",
    "\n",
    "a = np.where(x > y)[0].tolist()   \n",
    "b = np.where(x == y)[0].tolist()  \n",
    "\n",
    "print(a, end=',')\n",
    "print(b, end=',')\n"
   ]
  },
  {
   "cell_type": "markdown",
   "id": "0fe7152c",
   "metadata": {},
   "source": [
    "# Extract the first four columns of this 2-D array"
   ]
  },
  {
   "cell_type": "code",
   "execution_count": 4,
   "id": "07b95c34",
   "metadata": {},
   "outputs": [
    {
     "name": "stdout",
     "output_type": "stream",
     "text": [
      "[[ 0  1  2  3]\n",
      " [20 21 22 23]\n",
      " [40 41 42 43]\n",
      " [60 61 62 63]\n",
      " [80 81 82 83]]\n"
     ]
    }
   ],
   "source": [
    "import numpy as np\n",
    "a= np.arange(100).reshape(5,-1)\n",
    "print(a[:a.size,0:4])"
   ]
  },
  {
   "cell_type": "markdown",
   "id": "4df6e20c",
   "metadata": {},
   "source": [
    "# Generate a 1-D array of 10 random integers. Each integer should be a number between 30 and 40 (inclusive)"
   ]
  },
  {
   "cell_type": "code",
   "execution_count": 11,
   "id": "b1267e53",
   "metadata": {},
   "outputs": [
    {
     "name": "stdout",
     "output_type": "stream",
     "text": [
      "[35 40 39 30 35 30 31 30 37 32]\n"
     ]
    }
   ],
   "source": [
    "from numpy import random\n",
    "x=random.randint(30,41,10)\n",
    "print(x)"
   ]
  },
  {
   "cell_type": "markdown",
   "id": "7569127c",
   "metadata": {},
   "source": [
    "# Consider the following matrices : A= ((1, 2, 3), (4, 5, 6), (7, 8, 10)) and B = ((7, 8, 10) ,(4, 5, 6), (1, 2, 3)) Write a python program to perform the following using Numeric Python (numpy). \n",
    "i) Add and Subtract of the Matrix A and B, print the resultant matrix C for add and E for subtract.\n",
    "ii) Compute the sum of all elements of Matrix A, sum of each column of Matrix B and sum of each row of Matrix C\n",
    "iii) Product of two matrices A and B, and print the resultant matrix D\n",
    "iv) Sort the elements of resultant matrix C and print the resultant Matrix E.\n",
    "v) Transpose the Matrix E and print the result"
   ]
  },
  {
   "cell_type": "code",
   "execution_count": 12,
   "id": "b705efbb",
   "metadata": {},
   "outputs": [
    {
     "name": "stdout",
     "output_type": "stream",
     "text": [
      "Matrix C (A + B):\n",
      " [[ 8 10 13]\n",
      " [ 8 10 12]\n",
      " [ 8 10 13]]\n",
      "\n",
      "Matrix E (A - B):\n",
      " [[-6 -6 -7]\n",
      " [ 0  0  0]\n",
      " [ 6  6  7]]\n",
      "\n",
      "Sum of all elements of matrix A: 46\n",
      "Sum of each column of matrix B: [12 15 19]\n",
      "Sum of each row of matrix C: [31 30 31]\n",
      "\n",
      "Matrix D (A * B):\n",
      " [[ 18  24  31]\n",
      " [ 54  69  88]\n",
      " [ 91 116 148]]\n",
      "\n",
      "Matrix E (sorted elements of matrix C):\n",
      " [[ 8  8  8]\n",
      " [10 10 10]\n",
      " [12 13 13]]\n",
      "\n",
      "Transpose of matrix E:\n",
      " [[ 8 10 12]\n",
      " [ 8 10 13]\n",
      " [ 8 10 13]]\n"
     ]
    }
   ],
   "source": [
    "import numpy as np\n",
    "\n",
    "A = np.array([[1, 2, 3],\n",
    "              [4, 5, 6],\n",
    "              [7, 8, 10]])\n",
    "\n",
    "B = np.array([[7, 8, 10],\n",
    "              [4, 5, 6],\n",
    "              [1, 2, 3]])\n",
    "\n",
    "C = A + B\n",
    "E = A - B\n",
    "\n",
    "print(\"Matrix C (A + B):\\n\", C)\n",
    "print(\"\\nMatrix E (A - B):\\n\", E)\n",
    "\n",
    "sum_A = np.sum(A)\n",
    "sum_columns_B = np.sum(B, axis=0)  \n",
    "sum_rows_C = np.sum(C, axis=1)    \n",
    "\n",
    "print(\"\\nSum of all elements of matrix A:\", sum_A)\n",
    "print(\"Sum of each column of matrix B:\", sum_columns_B)\n",
    "print(\"Sum of each row of matrix C:\", sum_rows_C)\n",
    "\n",
    "D = np.dot(A, B)\n",
    "print(\"\\nMatrix D (A * B):\\n\", D)\n",
    "\n",
    "E = np.sort(C, axis=None).reshape(C.shape)\n",
    "print(\"\\nMatrix E (sorted elements of matrix C):\\n\", E)\n",
    "\n",
    "E_transposed = E.T\n",
    "print(\"\\nTranspose of matrix E:\\n\", E_transposed)\n"
   ]
  },
  {
   "cell_type": "code",
   "execution_count": null,
   "id": "002c332f",
   "metadata": {},
   "outputs": [],
   "source": [
    "                                                                                                                "
   ]
  }
 ],
 "metadata": {
  "kernelspec": {
   "display_name": "Python 3 (ipykernel)",
   "language": "python",
   "name": "python3"
  },
  "language_info": {
   "codemirror_mode": {
    "name": "ipython",
    "version": 3
   },
   "file_extension": ".py",
   "mimetype": "text/x-python",
   "name": "python",
   "nbconvert_exporter": "python",
   "pygments_lexer": "ipython3",
   "version": "3.11.2"
  }
 },
 "nbformat": 4,
 "nbformat_minor": 5
}
